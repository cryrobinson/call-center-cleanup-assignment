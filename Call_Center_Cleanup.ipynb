{
 "cells": [
  {
   "cell_type": "markdown",
   "id": "331a1c4f",
   "metadata": {},
   "source": [
    "# Call Center Cleanup\n",
    "\n",
    "For this assignment, we will be working with call center data. You can start working on the assignment after the first lesson on Exploratory Data Analysis with pandas. Make sure to read the whole assignment before starting anything! As you code along in the Jupyter notebook, you are asked to make note of the results of your analysis. Do so by clicking on the results box and adding your notes beside each question.\n",
    "\n",
    "## Business Issue and Understanding\n",
    "\n",
    "You are working for a company that has two call centers: the North Call Center and the South Call Center. The company is looking to possibly hire five additional reps to enhance customer experience. Your task is to explore how efficient the current reps are in each branch to determine which branch would benefit from additional assistance.\n",
    "\n",
    "### How the Call Center Works\n",
    "\n",
    "Call center representatives are assigned queues. When calls are assigned to a queue, the call is assigned to the next person in line in the queue. After a call is assigned to a representative, the amount of time between assignment and the call starting is divided into busy minutes and not ready minutes. If the call is incoming and a customer is waiting on the phone for a rep, the time is split into three categories: busy minutes, not ready minutes, and incoming call wait time. Once the rep has the customer on the phone, there might be during call wait time, where the call is put on hold while the rep gets an answer for the customer.\n",
    "\n",
    "### Notes about the Dataset\n",
    "\n",
    "If you haven't worked in a call center before, these notes might help you throughout your analysis.\n",
    "\n",
    "* The call purpose is tagged for each call.\n",
    "* The time of the call is tagged in 1 hour blocks starting at 9:00 AM and ending at 5:00 PM.\n",
    "* Calls are tagged as incoming or outgoing.\n",
    "* Reps are assigned to queues. When the reps are working, they take calls in the order of their queue.\n",
    "* A call that is dropped due to technical error or missed by the center because they have reached maximum capacity is a lost call.\n",
    "* An abandoned call is when the customer hangs up because they have been waiting for too long.\n",
    "* Busy Minutes: the amount of time after a call comes in or needs to go out where the assigned rep is not available because they are busy with other customers.\n",
    "* Not Ready Minutes: the amount of time after a call comes in or needs to go out where the assigned rep is not available because they are not ready (for example, getting water).\n",
    "* Incoming Wait Time - amount of time after assigned rep is available to take the call customer waits for representative to pick up a call. This is tracked in seconds.\n",
    "* During Call Wait Time - amount of time during call that customer has to wait for representative\n",
    "\n",
    "## Getting Started\n",
    "\n",
    "You have two CSVs at your disposal, `NorthCallCenter.csv` and `SouthCallCenter.csv`. Import the appropriate libraries and create two dataframes, one called `north_df` and one called `south_df`."
   ]
  },
  {
   "cell_type": "code",
   "execution_count": 2,
   "id": "f362436b",
   "metadata": {},
   "outputs": [],
   "source": [
    "# Import the appropriate libraries with aliases\n",
    "import pandas as pd\n",
    "import numpy\n",
    "import matplotlib.pyplot as plt\n",
    "\n",
    "# Create two new dataframes\n",
    "north_df = pd.read_csv('NorthCallCenter.csv')\n",
    "south_df = pd.read_csv('SouthCallCenter.csv')"
   ]
  },
  {
   "cell_type": "markdown",
   "id": "b4d3484b",
   "metadata": {},
   "source": [
    "## Task 1: Exploratory Data Analysis\n",
    "\n",
    "Time to do some EDA! In the process of learning more about the two datasets, answer the following questions. Use the code blocks below to begin cleaning your data. At the end of the section, record your answers."
   ]
  },
  {
   "cell_type": "markdown",
   "id": "76898991",
   "metadata": {},
   "source": [
    "#### EDA Question 1A:  How many reps are in the North branch?  "
   ]
  },
  {
   "cell_type": "code",
   "execution_count": 4,
   "id": "ce3eb5e4",
   "metadata": {},
   "outputs": [
    {
     "name": "stdout",
     "output_type": "stream",
     "text": [
      "Number of unique IDs: 9\n"
     ]
    }
   ],
   "source": [
    "# EDA Question 1A solution below:\n",
    "unique_count = north_df['Rep ID'].nunique()\n",
    "print(\"Number of unique IDs:\", unique_count)"
   ]
  },
  {
   "cell_type": "markdown",
   "id": "2a9b34d8",
   "metadata": {},
   "source": [
    "#### EDA Question 1B:  How many reps are in the South branch?  "
   ]
  },
  {
   "cell_type": "code",
   "execution_count": 5,
   "id": "3c715bbf",
   "metadata": {},
   "outputs": [
    {
     "name": "stdout",
     "output_type": "stream",
     "text": [
      "Number of unique IDs: 11\n"
     ]
    }
   ],
   "source": [
    "# EDA Question 1B solution Below:\n",
    "unique_count = south_df['Rep ID'].nunique()\n",
    "print(\"Number of unique IDs:\", unique_count)"
   ]
  },
  {
   "cell_type": "markdown",
   "id": "a872f045",
   "metadata": {},
   "source": [
    "#### EDA Question 2A:  What is the average busy minutes, not ready minutes, incoming wait time, and during call wait time for the North branch? "
   ]
  },
  {
   "cell_type": "code",
   "execution_count": 8,
   "id": "3759305f",
   "metadata": {},
   "outputs": [
    {
     "name": "stdout",
     "output_type": "stream",
     "text": [
      "Average Busy Minutes: 9.99\n",
      "Average Not Ready Minutes: 1.91\n",
      "Average Incoming Wait Time: 3.05\n",
      "Average During Call Wait Time: 2.97\n"
     ]
    }
   ],
   "source": [
    "# EDA Question 2A solution Below:\n",
    "average_busy_minutes = round(north_df['Busy Minutes'].mean(), 2)\n",
    "average_not_ready_minutes = round(north_df['Not Ready Minutes'].mean(), 2)\n",
    "average_incoming_wait_time = round(north_df['Incoming Wait Time'].mean(), 2)\n",
    "average_during_call_wait_time = round(north_df['During Call Wait Time'].mean(), 2)\n",
    "\n",
    "\n",
    "print(\"Average Busy Minutes:\", average_busy_minutes)\n",
    "print(\"Average Not Ready Minutes:\", average_not_ready_minutes)\n",
    "print(\"Average Incoming Wait Time:\", average_incoming_wait_time)\n",
    "print(\"Average During Call Wait Time:\", average_during_call_wait_time)"
   ]
  },
  {
   "cell_type": "markdown",
   "id": "3851cf3e",
   "metadata": {},
   "source": [
    "#### EDA Question 2B:  What is the average busy minutes, not ready minutes, incoming wait time, and during call wait time for the South branch? "
   ]
  },
  {
   "cell_type": "code",
   "execution_count": 9,
   "id": "a77ec152",
   "metadata": {},
   "outputs": [
    {
     "name": "stdout",
     "output_type": "stream",
     "text": [
      "Average Busy Minutes: 10.05\n",
      "Average Not Ready Minutes: 1.91\n",
      "Average Incoming Wait Time: 3.0\n",
      "Average During Call Wait Time: 3.08\n"
     ]
    }
   ],
   "source": [
    "# EDA Question 2B solution Below:\n",
    "average_busy_minutes = round(south_df['Busy Minutes'].mean(), 2)\n",
    "average_not_ready_minutes = round(south_df['Not Ready Minutes'].mean(), 2)\n",
    "average_incoming_wait_time = round(south_df['Incoming Wait Time'].mean(), 2)\n",
    "average_during_call_wait_time = round(south_df['During Call Wait Time'].mean(), 2)\n",
    "\n",
    "\n",
    "print(\"Average Busy Minutes:\", average_busy_minutes)\n",
    "print(\"Average Not Ready Minutes:\", average_not_ready_minutes)\n",
    "print(\"Average Incoming Wait Time:\", average_incoming_wait_time)\n",
    "print(\"Average During Call Wait Time:\", average_during_call_wait_time)"
   ]
  },
  {
   "cell_type": "markdown",
   "id": "75915553",
   "metadata": {},
   "source": [
    "#### EDA Question 3:  What is the number of calls taken for each time block(Both North and South combined)?"
   ]
  },
  {
   "cell_type": "code",
   "execution_count": 11,
   "id": "49566936",
   "metadata": {},
   "outputs": [
    {
     "name": "stdout",
     "output_type": "stream",
     "text": [
      "Time Block\n",
      "10:00 AM     99\n",
      "11:00 AM     56\n",
      "12:00 PM    120\n",
      "1:00 PM      40\n",
      "2:00 PM      65\n",
      "3:00 PM      73\n",
      "4:00 PM      53\n",
      "5:00 PM      43\n",
      "9:00 AM      10\n",
      "Name: Calls, dtype: int64\n"
     ]
    }
   ],
   "source": [
    "# EDA Question 3 solution Below:\n",
    "combined_df = pd.concat([north_df, south_df], ignore_index=True)\n",
    "\n",
    "calls_per_time_block = combined_df.groupby('Time Block')['Calls'].sum()\n",
    "\n",
    "print(calls_per_time_block)"
   ]
  },
  {
   "cell_type": "markdown",
   "id": "40b1fd3f",
   "metadata": {},
   "source": [
    "##### Record your answers for the EDA section below:\n",
    "- 1a) Reps in the North Branch = 9\n",
    "- 1b) Reps in the South Branch = 11\n",
    "\n",
    "\n",
    "- 2a) North Branch, (round to the nearest hundredth):\n",
    "> - Busy Minutes = 9.99\n",
    "> - Not Ready Minutes = 1.91\n",
    "> - Incoming Wait Time = 3.05\n",
    "> - During Call Wait Time = 2.97\n",
    "- 2b) South Branch, (round to the nearest hundredth):\n",
    "> - Busy Minutes = 10.05\n",
    "> - Not Ready Minutes = 1.91\n",
    "> - Incoming Wait Time = 3.00\n",
    "> - During Call Wait Time = 3.08\n",
    "- 3) Total Calls taken for all branches per time block:\n",
    "> - 9:00AM   = 10\n",
    "> - 10:00AM  = 99\n",
    "> - 11:00AM  = 56\n",
    "> - 12:00PM  = 120\n",
    "> - 1:00PM   = 40\n",
    "> - 2:00PM   = 65\n",
    "> - 3:00PM   = 73\n",
    "> - 4:00PM   = 53\n",
    "> - 5:00PM   = 43\n",
    "\n"
   ]
  },
  {
   "cell_type": "markdown",
   "id": "366bfb19",
   "metadata": {},
   "source": [
    "## Task 2: Cleaning Your Data \n",
    "Now you need to clean up the datasets. When cleaning the datasets, you may find that there isn't dirty data to clean. That is okay! Some questions you need to answer about the data sets.\n",
    "* Add additional code blocks as needed to show how you came to your conclusions. Add comments in your code blocks to help others understand your thinking. "
   ]
  },
  {
   "cell_type": "markdown",
   "id": "c3564d69",
   "metadata": {},
   "source": [
    "#### Cleaning Question 1:  Is there any missing data and if yes explain what you would do with the missing data and why?"
   ]
  },
  {
   "cell_type": "code",
   "execution_count": 4,
   "id": "b77fb574",
   "metadata": {},
   "outputs": [],
   "source": [
    "# Question 1 solution below"
   ]
  },
  {
   "cell_type": "markdown",
   "id": "0dc5c568-40db-4889-b82b-64610d8058d2",
   "metadata": {},
   "source": [
    "#### Record your answer below:\n",
    "\n",
    "> Your Answer:\n",
    "\n",
    "We do have missing data. In the North csv, we are missing a lot of Incoming Wait Times. This is the same for the South csv. For this instance, I would probably just set these values to 0, because Outgoing calls most likely don't have an Incoming Wait Time, thus these values should be 0. Also for numerical purposes, it doesn't make sense to set them to \"FALSE\", and removing them could hurt our other stats where these rows have other data. "
   ]
  },
  {
   "cell_type": "markdown",
   "id": "dc47f020",
   "metadata": {},
   "source": [
    "#### Cleaning Question 2:  In the North data set, there are two separate \"YES\" values for a sale. Why and how did you rectify the issue?"
   ]
  },
  {
   "cell_type": "code",
   "execution_count": 14,
   "id": "4e0fbad6",
   "metadata": {},
   "outputs": [
    {
     "name": "stdout",
     "output_type": "stream",
     "text": [
      "['NO' 'YES']\n"
     ]
    }
   ],
   "source": [
    "# Cleaning Question 2 solution below:\n",
    "north_df['Sale'] = north_df['Sale'].str.strip()\n",
    "unique_values = north_df['Sale'].unique()\n",
    "\n",
    "\n",
    "print(unique_values)"
   ]
  },
  {
   "cell_type": "markdown",
   "id": "cf81b612-eb6b-45a6-ac8e-d6f4e08131a8",
   "metadata": {},
   "source": [
    "##### Record your answer by below:\n",
    "> Your Answer:\n",
    ">\n",
    "> I rectified the issue because having two values for Yes can only cause us problems. To do this, I used str.strip() to remove the trailing spaces from the Sale column. "
   ]
  },
  {
   "cell_type": "markdown",
   "id": "715f375a",
   "metadata": {},
   "source": [
    "#### Cleaning Question 3:  Are there duplicates in the two data sets? If there are, how did you handle them?"
   ]
  },
  {
   "cell_type": "code",
   "execution_count": 9,
   "id": "2323673a",
   "metadata": {},
   "outputs": [
    {
     "name": "stdout",
     "output_type": "stream",
     "text": [
      "No duplicates found.\n"
     ]
    }
   ],
   "source": [
    "# Cleaning Question 3 solution below:\n",
    "import pandas as pd\n",
    "\n",
    "north_df = pd.read_csv('NorthCallCenter.csv')\n",
    "south_df = pd.read_csv('SouthCallCenter.csv')\n",
    "df = pd.concat([north_df,south_df], ignore_index=True)\n",
    "\n",
    "duplicates = df[df.duplicated()]\n",
    "if not duplicates.empty:\n",
    "    print(\"Duplicates found:\")\n",
    "    print(duplicates)\n",
    "else:\n",
    "    print(\"No duplicates found.\")\n",
    "\n",
    "\n"
   ]
  },
  {
   "cell_type": "markdown",
   "id": "4fbfe2e8-490a-48dc-b0ca-599879076c62",
   "metadata": {},
   "source": [
    "##### Record your answer below:\n",
    "> Your Answer:\n",
    "\n",
    "Based on my code, there were no duplicates present. "
   ]
  },
  {
   "cell_type": "markdown",
   "id": "8ffaa865",
   "metadata": {},
   "source": [
    "#### Cleaning Question 4:  Is any of the data in the two data sets unnecessary? If yes, how did you handle it?"
   ]
  },
  {
   "cell_type": "code",
   "execution_count": 17,
   "id": "78b45e70",
   "metadata": {},
   "outputs": [],
   "source": [
    "# Cleaning Question 4 solution below:"
   ]
  },
  {
   "cell_type": "markdown",
   "id": "689e76b9-64d2-45d7-883a-b8c4d822e0c8",
   "metadata": {},
   "source": [
    "##### Record your answer below:\n",
    "> Your Answer: I personally did not find any of the provided data to stand out as unnecessary. "
   ]
  },
  {
   "cell_type": "markdown",
   "id": "73342a9a",
   "metadata": {},
   "source": [
    "## Task 3: Data Manipulation\n",
    "Before you begin answering any questions, combine the two datasets together to create a third dataframe called df. You can use this third dataframe to compare the two call centers to company-wide trends.\n",
    "* Add additional code blocks as needed to show how you came to your conclusions. Add comments in your code blocks to help others understand your thinking. Record your answer below."
   ]
  },
  {
   "cell_type": "code",
   "execution_count": 25,
   "id": "e9705c34",
   "metadata": {},
   "outputs": [
    {
     "name": "stdout",
     "output_type": "stream",
     "text": [
      "Combined DataFrame\n",
      "     Unnamed: 0 Branch     Call Purpose Time Block Incoming or Outgoing Queue  \\\n",
      "0             0  North        Complaint    9:00 AM             Incoming     B   \n",
      "1             1  North    Sales Support   11:00 AM             Incoming     A   \n",
      "2             2  North    Sales Support   11:00 AM             Incoming     B   \n",
      "3             3  North    Sales Support    4:00 PM             Incoming     B   \n",
      "4             4  North  Product Support   12:00 PM             Incoming     B   \n",
      "..          ...    ...              ...        ...                  ...   ...   \n",
      "554         309  South  Product Support    5:00 PM             Outgoing     D   \n",
      "555         310  South  Product Support    5:00 PM             Outgoing     C   \n",
      "556         311  South  Product Support    5:00 PM             Outgoing     C   \n",
      "557         312  South  Product Support    5:00 PM             Outgoing     C   \n",
      "558         313  South  Product Support    5:00 PM             Outgoing     D   \n",
      "\n",
      "     Rep ID Sale  Lost Call  Abandoned  Busy Minutes  Not Ready Minutes  \\\n",
      "0     Brent   NO          0          1             9                  2   \n",
      "1       Cam   NO          0          0            11                  1   \n",
      "2      Todd   NO          0          0             9                  3   \n",
      "3     Brent   NO          0          0            11                  2   \n",
      "4     Brent   NO          0          0             8                  2   \n",
      "..      ...  ...        ...        ...           ...                ...   \n",
      "554   Helga   NO          0          0            10                  3   \n",
      "555   Susan   NO          0          0            12                  3   \n",
      "556   Sandy   NO          0          0             9                  3   \n",
      "557    Eric   NO          0          0            10                  1   \n",
      "558  George   NO          0          0            10                  2   \n",
      "\n",
      "     Incoming Wait Time  During Call Wait Time  Calls  \n",
      "0                   1.0                      4      1  \n",
      "1                   1.0                      3      1  \n",
      "2                   1.0                      3      1  \n",
      "3                   1.0                      4      1  \n",
      "4                   1.0                      4      1  \n",
      "..                  ...                    ...    ...  \n",
      "554                 NaN                      4      1  \n",
      "555                 NaN                      4      1  \n",
      "556                 NaN                      4      1  \n",
      "557                 NaN                      2      1  \n",
      "558                 NaN                      3      1  \n",
      "\n",
      "[559 rows x 15 columns]\n"
     ]
    }
   ],
   "source": [
    "# Create dataframe for the entire company named df\n",
    "df = pd.concat([north_df,south_df], ignore_index=True)\n",
    "\n",
    "print(\"Combined DataFrame\")\n",
    "print(df)\n"
   ]
  },
  {
   "cell_type": "markdown",
   "id": "7e87dfd1",
   "metadata": {},
   "source": [
    "#### Manipulation Question 1:  Group by Rep ID and sum the resulting structure. Sort by calls to determine which rep in each branch has the highest number of calls."
   ]
  },
  {
   "cell_type": "code",
   "execution_count": 29,
   "id": "3953f09a",
   "metadata": {},
   "outputs": [
    {
     "name": "stdout",
     "output_type": "stream",
     "text": [
      "Sorted Calls by Rep ID in Each Branch:\n",
      "   Branch  Rep ID  Calls\n",
      "2   North   Brent     37\n",
      "6   North   Lilly     30\n",
      "4   North    Duke     29\n",
      "7   North    Todd     29\n",
      "5   North     Joe     26\n",
      "3   North     Cam     24\n",
      "8   North  Xander     24\n",
      "0   North  Amanda     23\n",
      "1   North    Andy     23\n",
      "10  South    Eric     35\n",
      "16  South   Randy     33\n",
      "17  South   Sandy     32\n",
      "12  South   Helga     31\n",
      "11  South  George     29\n",
      "15  South    Kate     29\n",
      "14  South    Karl     28\n",
      "13  South    Josh     26\n",
      "19  South   Susan     26\n",
      "18  South  Sharon     25\n",
      "9   South   Alice     20\n"
     ]
    }
   ],
   "source": [
    "# Manipulation Question solution below:\n",
    "grouped_df = df.groupby(['Branch','Rep ID'], as_index=False)['Calls'].sum()\n",
    "sorted_df = grouped_df.sort_values(by=['Branch', 'Calls'], ascending=[True, False])\n",
    "\n",
    "print(\"Sorted Calls by Rep ID in Each Branch:\")\n",
    "print(sorted_df)"
   ]
  },
  {
   "cell_type": "markdown",
   "id": "7c29838c-1402-4e4b-94c9-050515d8dd18",
   "metadata": {},
   "source": [
    "##### Record your answer below\n",
    "Rep with the hightest number of calls and their total calls:\n",
    "- North Branch = Brent with 37 calls\n",
    "- South Branch = Eric with 35 calls"
   ]
  },
  {
   "cell_type": "markdown",
   "id": "809293b9",
   "metadata": {},
   "source": [
    "#### Manipulation Question 2:  The average call abandonment rate is a KPI when it comes to determining call center efficiency. As you may recall, abandoned calls are calls where the customer hangs up due to long call times. What is the average call abandonment rate for each branch and the whole company? Do any of these fall out of the optimal range of 2-5%?"
   ]
  },
  {
   "cell_type": "code",
   "execution_count": 8,
   "id": "3dff7534",
   "metadata": {},
   "outputs": [
    {
     "name": "stdout",
     "output_type": "stream",
     "text": [
      "Average Abandoned Calls at North Branch\n",
      "Branch\n",
      "North    0.028571\n",
      "Name: Abandoned, dtype: float64\n",
      "Average Abandoned Calls at South Branch\n",
      "Branch\n",
      "South    0.012739\n",
      "Name: Abandoned, dtype: float64\n",
      "Average Abandoned Calls for Whole Company\n",
      "0.01967799642218247\n"
     ]
    }
   ],
   "source": [
    "# Manipulation Question 2 solution below\n",
    "import pandas as pd\n",
    "\n",
    "north_df = pd.read_csv('NorthCallCenter.csv')\n",
    "south_df = pd.read_csv('SouthCallCenter.csv')\n",
    "df = pd.concat([north_df,south_df], ignore_index=True)\n",
    "average_abandoned_call_north = north_df.groupby('Branch')['Abandoned'].mean()\n",
    "average_abandoned_call_south = south_df.groupby('Branch')['Abandoned'].mean()\n",
    "average_abandoned_call_company = df['Abandoned'].mean()\n",
    "\n",
    "print('Average Abandoned Calls at North Branch')\n",
    "print(average_abandoned_call_north)\n",
    "print('Average Abandoned Calls at South Branch')\n",
    "print(average_abandoned_call_south)\n",
    "print('Average Abandoned Calls for Whole Company')\n",
    "print(average_abandoned_call_company)"
   ]
  },
  {
   "cell_type": "markdown",
   "id": "c284596f-218f-4291-81b6-718ea5671feb",
   "metadata": {},
   "source": [
    "##### Record your answer below:\n",
    "Average Call Abandonment Rates (round to the nearest hundredth):\n",
    "- North Branch = 2.86%\n",
    "- South Branch = 1.27%\n",
    "- Company Wide = 1.97%\n",
    "- Do any of these fall out of the optimal range of 2-5%? South and Company as a whole both fail to fall in the 2-5% range."
   ]
  },
  {
   "cell_type": "markdown",
   "id": "598bb1bf",
   "metadata": {},
   "source": [
    "#### Manipulation Question 3:  Service level is another KPI when it comes to measuring call center efficiency. Service level is the percentage of calls answered within a specific number of seconds. In the case of your employer, their ideal time frame is 2 seconds. What is the percentage of calls answered within 2 seconds for each branch and the entire company?"
   ]
  },
  {
   "cell_type": "code",
   "execution_count": 69,
   "id": "2fc8f669",
   "metadata": {},
   "outputs": [
    {
     "name": "stdout",
     "output_type": "stream",
     "text": [
      "Unnamed: 0               40.243902\n",
      "Branch                   40.243902\n",
      "Call Purpose             40.243902\n",
      "Time Block               40.243902\n",
      "Incoming or Outgoing     40.243902\n",
      "Queue                    40.243902\n",
      "Rep ID                   40.243902\n",
      "Sale                     40.243902\n",
      "Lost Call                40.243902\n",
      "Abandoned                40.243902\n",
      "Busy Minutes             40.243902\n",
      "Not Ready Minutes        40.243902\n",
      "Incoming Wait Time       40.243902\n",
      "During Call Wait Time    40.243902\n",
      "Calls                    40.243902\n",
      "dtype: float64\n",
      "Unnamed: 0               33\n",
      "Branch                   33\n",
      "Call Purpose             33\n",
      "Time Block               33\n",
      "Incoming or Outgoing     33\n",
      "Queue                    33\n",
      "Rep ID                   33\n",
      "Sale                     33\n",
      "Lost Call                33\n",
      "Abandoned                33\n",
      "Busy Minutes             33\n",
      "Not Ready Minutes        33\n",
      "Incoming Wait Time       33\n",
      "During Call Wait Time    33\n",
      "Calls                    33\n",
      "dtype: int64\n",
      "82\n",
      "Unnamed: 0               38.095238\n",
      "Branch                   38.095238\n",
      "Call Purpose             38.095238\n",
      "Time Block               38.095238\n",
      "Incoming or Outgoing     38.095238\n",
      "Queue                    38.095238\n",
      "Rep ID                   38.095238\n",
      "Sale                     38.095238\n",
      "Lost Call                38.095238\n",
      "Abandoned                38.095238\n",
      "Busy Minutes             38.095238\n",
      "Not Ready Minutes        38.095238\n",
      "Incoming Wait Time       38.095238\n",
      "During Call Wait Time    38.095238\n",
      "Calls                    38.095238\n",
      "dtype: float64\n",
      "Unnamed: 0               48\n",
      "Branch                   48\n",
      "Call Purpose             48\n",
      "Time Block               48\n",
      "Incoming or Outgoing     48\n",
      "Queue                    48\n",
      "Rep ID                   48\n",
      "Sale                     48\n",
      "Lost Call                48\n",
      "Abandoned                48\n",
      "Busy Minutes             48\n",
      "Not Ready Minutes        48\n",
      "Incoming Wait Time       48\n",
      "During Call Wait Time    48\n",
      "Calls                    48\n",
      "dtype: int64\n",
      "126\n",
      "Unnamed: 0               38.942308\n",
      "Branch                   38.942308\n",
      "Call Purpose             38.942308\n",
      "Time Block               38.942308\n",
      "Incoming or Outgoing     38.942308\n",
      "Queue                    38.942308\n",
      "Rep ID                   38.942308\n",
      "Sale                     38.942308\n",
      "Lost Call                38.942308\n",
      "Abandoned                38.942308\n",
      "Busy Minutes             38.942308\n",
      "Not Ready Minutes        38.942308\n",
      "Incoming Wait Time       38.942308\n",
      "During Call Wait Time    38.942308\n",
      "Calls                    38.942308\n",
      "dtype: float64\n",
      "Unnamed: 0               81\n",
      "Branch                   81\n",
      "Call Purpose             81\n",
      "Time Block               81\n",
      "Incoming or Outgoing     81\n",
      "Queue                    81\n",
      "Rep ID                   81\n",
      "Sale                     81\n",
      "Lost Call                81\n",
      "Abandoned                81\n",
      "Busy Minutes             81\n",
      "Not Ready Minutes        81\n",
      "Incoming Wait Time       81\n",
      "During Call Wait Time    81\n",
      "Calls                    81\n",
      "dtype: int64\n",
      "208\n"
     ]
    }
   ],
   "source": [
    "# Manipulation Question 3 solution below:\n",
    "import pandas as pd\n",
    "\n",
    "north_df = pd.read_csv('NorthCallCenter.csv')\n",
    "south_df = pd.read_csv('SouthCallCenter.csv')\n",
    "df = pd.concat([north_df,south_df], ignore_index=True)\n",
    "incoming_calls = df[df['Incoming or Outgoing'] == 'Incoming']\n",
    "quick_calls_incoming = incoming_calls[incoming_calls['Incoming Wait Time'] <= 2.0].count()\n",
    "quick_calls_north = north[north[\"Incoming Wait Time\"] <= 2.0].count()\n",
    "quick_calls_south = south[south[\"Incoming Wait Time\"] <= 2.0].count()\n",
    "total_quick_calls = quick_calls_north + quick_calls_south\n",
    "total_north = north_df[north_df['Incoming or Outgoing'] == 'Incoming']['Calls'].count()\n",
    "total_south = south_df[south_df['Incoming or Outgoing'] == 'Incoming']['Calls'].count()\n",
    "total_company = incoming_calls['Calls'].count()\n",
    "\n",
    "percent_north = (quick_calls_north / total_north * 100) if total_north > 0 else 0\n",
    "percent_south = (quick_calls_south / total_south * 100) if total_south > 0 else 0\n",
    "percent_total_company = (total_quick_calls / total_company * 100) if total_company > 0 else 0\n",
    "\n",
    "print(percent_north)\n",
    "print(quick_calls_north)\n",
    "print(total_north)\n",
    "print(percent_south)\n",
    "print(quick_calls_south)\n",
    "print(total_south)\n",
    "print(percent_total_company)\n",
    "print(total_quick_calls)\n",
    "print(total_company)\n",
    "    \n",
    "\n"
   ]
  },
  {
   "cell_type": "markdown",
   "id": "e3a4c9d9-4e11-4e1f-859a-d2c919f7d9ce",
   "metadata": {},
   "source": [
    "##### Record your answer below:\n",
    "Percentage of calls answered within 2 seconds, include # of calls:\n",
    "- North Branch = 40.24% with 33 calls\n",
    "- South Branch = 38.10% with 48 calls\n",
    "- Company Wide = 38.94% with 81 calls\n"
   ]
  },
  {
   "cell_type": "markdown",
   "id": "7e19e705",
   "metadata": {},
   "source": [
    "#### Manipulation Question 4: For each branch and the entire company, what is the average speed of answer?"
   ]
  },
  {
   "cell_type": "code",
   "execution_count": 2,
   "id": "72a653ed",
   "metadata": {},
   "outputs": [
    {
     "name": "stdout",
     "output_type": "stream",
     "text": [
      "Average Incoming Wait Time by Branch:\n",
      "  Branch  Incoming Wait Time\n",
      "0  North             3.04878\n",
      "1  South             3.00000\n",
      "\n",
      "Average Incoming Wait Time for the Entire Company:\n",
      "3.019230769230769\n"
     ]
    }
   ],
   "source": [
    "# Manipulation Question 4 solution below:\n",
    "import pandas as pd\n",
    "\n",
    "north_df = pd.read_csv('NorthCallCenter.csv')\n",
    "south_df = pd.read_csv('SouthCallCenter.csv')\n",
    "df = pd.concat([north_df, south_df], ignore_index=True)\n",
    "\n",
    "average_wait_time_by_branch = df.groupby('Branch')['Incoming Wait Time'].mean().reset_index()\n",
    "\n",
    "average_wait_time_overall = df['Incoming Wait Time'].mean()\n",
    "\n",
    "print(\"Average Incoming Wait Time by Branch:\")\n",
    "print(average_wait_time_by_branch)\n",
    "print(\"\\nAverage Incoming Wait Time for the Entire Company:\")\n",
    "print(average_wait_time_overall)\n"
   ]
  },
  {
   "cell_type": "markdown",
   "id": "fb04c65b-442b-48e1-b22c-b2af8b835ffd",
   "metadata": {},
   "source": [
    "##### Record your answer by below:\n",
    "Average speed of answer (rounded to nearest hundredth):\n",
    "- North Branch in seconds = 3.05 seconds\n",
    "- South Branch in seconds = 3 seconds \n",
    "- Company Wide in seconds = 3.02 seconds"
   ]
  },
  {
   "cell_type": "markdown",
   "id": "d5f50a40",
   "metadata": {},
   "source": [
    "## Task 4: Visualization\n",
    "\n",
    "Create a visualization for each of the following questions. Some of the code to handle aggregating and storing data may be written for you. For each visualization, you choose the chart style that you feel suits the situation best. Make note of the chart style you chose and why. \n",
    "\n",
    "*NOTE Some questions you may decide to use more than one chart and or chart style."
   ]
  },
  {
   "cell_type": "markdown",
   "id": "66ccf83c",
   "metadata": {},
   "source": [
    "#### Visualization 1:  What is the average abandonment rate per queue?"
   ]
  },
  {
   "cell_type": "code",
   "execution_count": 31,
   "id": "c971d779",
   "metadata": {},
   "outputs": [
    {
     "name": "stderr",
     "output_type": "stream",
     "text": [
      "/var/folders/3q/89j1fbhn3535fsc60pr_c_xw0000gn/T/ipykernel_9732/202932448.py:15: FutureWarning: Series.__getitem__ treating keys as positions is deprecated. In a future version, integer keys will always be treated as labels (consistent with DataFrame behavior). To access a value by position, use `ser.iloc[pos]`\n",
      "  abandonment_rates[queues[i]] = queue_dict[\"Abandoned\"][i] / queue_dict[\"Calls\"][i]\n"
     ]
    },
    {
     "data": {
      "image/png": "[encoded data removed]",
      "text/plain": [
       "<Figure size 800x500 with 1 Axes>"
      ]
     },
     "metadata": {},
     "output_type": "display_data"
    },
    {
     "name": "stdout",
     "output_type": "stream",
     "text": [
      "0.021523181552908718\n"
     ]
    }
   ],
   "source": [
    "# Create visualization 1 here\n",
    "# Import any additional libraries needed with alias\n",
    "import pandas as pd\n",
    "import matplotlib.pyplot as plt\n",
    "\n",
    "north_df = pd.read_csv('NorthCallCenter.csv')\n",
    "south_df = pd.read_csv('SouthCallCenter.csv')\n",
    "df = pd.concat([north_df,south_df], ignore_index=True) \n",
    "\n",
    "# The dictionary abandonment_rates has the data you need.\n",
    "abandonment_rates = {}\n",
    "queues = [\"A\", \"B\", \"C\", \"D\"]\n",
    "queue_dict = df.groupby(\"Queue\").agg(\"sum\")\n",
    "for i in range(4):\n",
    "    abandonment_rates[queues[i]] = queue_dict[\"Abandoned\"][i] / queue_dict[\"Calls\"][i] \n",
    "\n",
    "#Your code below:\n",
    "abandonment_df = pd.DataFrame(list(abandonment_rates.items()), columns=['Queue', 'Abandonment Rate'])\n",
    "\n",
    "average_rate = abandonment_df['Abandonment Rate'].mean()\n",
    "\n",
    "plt.figure(figsize=(8, 5))\n",
    "plt.bar(abandonment_df['Queue'], abandonment_df['Abandonment Rate'], color='skyblue')\n",
    "plt.xlabel('Queue')\n",
    "plt.ylabel('Abandonment Rate')\n",
    "plt.title('Abandonment Rates by Queue')\n",
    "plt.ylim(0, 1)\n",
    "plt.axhline(average_rate, color='red', linewidth=2, linestyle='--', label=f'Average Rate: {average_rate:.2f}')\n",
    "plt.legend()\n",
    "\n",
    "plt.grid(axis='y', linestyle='--')\n",
    "plt.show()\n",
    "\n",
    "print(average_rate)\n",
    "\n"
   ]
  },
  {
   "cell_type": "markdown",
   "id": "00a821e7-b296-4950-8889-dacf36ef37fb",
   "metadata": {},
   "source": [
    "##### Record your answer below:\n",
    "\n",
    "> Chart style you chose and why: I used a bar chart because I like the layout, and how it gives a quick visual into the group totals, as well as an average line. "
   ]
  },
  {
   "cell_type": "markdown",
   "id": "4a9fc77f",
   "metadata": {},
   "source": [
    "#### Visualization 2: What is the service level percentage and average speed of answer for each rep in the North Branch?"
   ]
  },
  {
   "cell_type": "code",
   "execution_count": 12,
   "id": "61f65a7f",
   "metadata": {},
   "outputs": [
    {
     "name": "stdout",
     "output_type": "stream",
     "text": [
      "   Rep ID  Calls_x  Calls_y  Service Level %  Average Speed of Answer\n",
      "0  Amanda        3        5        60.000000                 2.400000\n",
      "1    Andy        3       10        30.000000                 3.600000\n",
      "2   Brent        6        8        75.000000                 2.125000\n",
      "3     Cam        5       11        45.454545                 2.909091\n",
      "4    Duke        6       14        42.857143                 2.785714\n",
      "5     Joe        2       10        20.000000                 3.600000\n",
      "6   Lilly        4       12        33.333333                 3.083333\n",
      "7    Todd        2        6        33.333333                 3.500000\n",
      "8  Xander        2        6        33.333333                 3.333333\n"
     ]
    },
    {
     "data": {
      "image/png": "[encoded data removed]",
      "text/plain": [
       "<Figure size 1000x600 with 1 Axes>"
      ]
     },
     "metadata": {},
     "output_type": "display_data"
    }
   ],
   "source": [
    "# Create visualization 2 here\n",
    "# north_plt contains the data you need for the average speed of answer of each rep\n",
    "import pandas as pd\n",
    "import matplotlib.pyplot as plt\n",
    "\n",
    "north = pd.read_csv('NorthCallCenter.csv')\n",
    "south = pd.read_csv('SouthCallCenter.csv')\n",
    "\n",
    "north_plt = north.groupby(\"Rep ID\")[\"Incoming Wait Time\"].mean().to_frame().reset_index()\n",
    "\n",
    "# Finding each Rep's Personal Service Level Percentage.  Basically, Calls within 2 secs / total calls\n",
    "\n",
    "# Table 1: Total Incoming calls less than 2 seconds grouped by Rep\n",
    "quick_calls = north[north[\"Incoming Wait Time\"] <= 2.0]\n",
    "quick_reps = quick_calls[[\"Rep ID\", \"Calls\"]]\n",
    "quick_stats = quick_reps.groupby([\"Rep ID\"]).sum()  # Final Table\n",
    "\n",
    "\n",
    "# Table 2: Total Incoming Calls Only grouped by Rep\n",
    "total_calls_in = north[north[\"Incoming or Outgoing\"] == \"Incoming\"]\n",
    "rep_calls = total_calls_in[[\"Rep ID\", \"Calls\"]]     \n",
    "total_stats = rep_calls.groupby([\"Rep ID\"]).sum() # Final Table  \n",
    "\n",
    "#  Table 3: Service Level Percentage created via merge\n",
    "service_level = pd.merge(quick_stats, total_stats, on=\"Rep ID\")\n",
    "\n",
    "# Create Percentage Column in Table 3\n",
    "service_level[\"Service Level %\"] = service_level[\"Calls_x\"]/service_level[\"Calls_y\"] * 100\n",
    "\n",
    "#Your Code Here:\n",
    "average_wait_time = north.groupby(\"Rep ID\")[\"Incoming Wait Time\"].mean().to_frame().reset_index()\n",
    "average_wait_time.rename(columns={\"Incoming Wait Time\": \"Average Speed of Answer\"}, inplace=True)\n",
    "\n",
    "final_stats = pd.merge(service_level, average_wait_time, on=\"Rep ID\")\n",
    "print(final_stats)\n",
    "\n",
    "plt.figure(figsize=(10, 6))\n",
    "plt.plot(final_stats['Rep ID'], final_stats['Service Level %'], marker='o', label='Service Level %', color='blue')\n",
    "plt.plot(final_stats['Rep ID'], final_stats['Average Speed of Answer'], marker='o', label='Average Speed of Answer', color='orange')\n",
    "plt.xlabel('Rep ID')\n",
    "plt.ylabel('Value')\n",
    "plt.title('Service Level Percentage and Average Speed of Answer by Rep in North Branch')\n",
    "plt.legend()\n",
    "plt.grid()\n",
    "\n",
    "plt.show()\n"
   ]
  },
  {
   "cell_type": "markdown",
   "id": "4d4cad4d-f9fb-4927-8a45-4b5cd17edd3a",
   "metadata": {},
   "source": [
    "##### Record your answer below:\n",
    "\n",
    "> Chart style you chose and why: I chose a line chart. While it isn't showing anything over the course of time, I find it a little easier to look at for my eyes, especially when distinguishing the different values. Also I had some trouble with my bar chart I was attempting. "
   ]
  },
  {
   "cell_type": "markdown",
   "id": "f965e41a",
   "metadata": {},
   "source": [
    "#### Visualization 3: For each type of call purpose, how many calls are outgoing vs. incoming?"
   ]
  },
  {
   "cell_type": "code",
   "execution_count": 8,
   "id": "44096730",
   "metadata": {
    "scrolled": true
   },
   "outputs": [
    {
     "name": "stdout",
     "output_type": "stream",
     "text": [
      "Call Purpose     Incoming or Outgoing\n",
      "Complaint        Incoming                 51\n",
      "Product Support  Outgoing                228\n",
      "                 Incoming                 82\n",
      "Sales Support    Outgoing                123\n",
      "                 Incoming                 75\n",
      "Name: count, dtype: int64\n",
      "Call Purpose     Incoming or Outgoing\n",
      "Complaint        Incoming                 51\n",
      "Product Support  Outgoing                228\n",
      "                 Incoming                 82\n",
      "Sales Support    Outgoing                123\n",
      "                 Incoming                 75\n",
      "Name: count, dtype: int64\n"
     ]
    },
    {
     "data": {
      "image/png": "[encoded data removed]",
      "text/plain": [
       "<Figure size 640x480 with 1 Axes>"
      ]
     },
     "metadata": {},
     "output_type": "display_data"
    }
   ],
   "source": [
    "# Create visualization 3 here:\n",
    "# The three dictionaries, complaints, sales_support, and product_support, have the information you need\n",
    "import pandas as pd\n",
    "import matplotlib.pyplot as plt\n",
    "\n",
    "north_df = pd.read_csv('NorthCallCenter.csv')\n",
    "south_df = pd.read_csv('SouthCallCenter.csv')\n",
    "df = pd.concat([north_df, south_df], ignore_index=True)\n",
    "\n",
    "purpose_group = df.groupby(\"Call Purpose\")\n",
    "purpose_counts = df.groupby(['Call Purpose', 'Incoming or Outgoing']).size().unstack(fill_value=0) # note-to-self per Stackoverflow: we can apply unstack to pivot by default the right-most (last) index level as columns to generate a DataFrame\n",
    "call_purpose = [\"Complaint\", \"Product Support\", \"Sales Support\"]\n",
    "purpose_counts = purpose_group[\"Incoming or Outgoing\"].value_counts()\n",
    "print(purpose_counts)\n",
    "\n",
    "# complaints = purpose_counts[\"Complaint\"].to_dict() # note-to-self per Stackoverflow: to_dict() method sets the column names as dictionary keys (update: commenting out, didn't end up using this for anything)\n",
    "# sales_support = purpose_counts[\"Sales Support\"].to_dict()\n",
    "# product_support = purpose_counts[\"Product Support\"].to_dict()\n",
    "\n",
    "#Your Code Here:\n",
    "print(purpose_counts)\n",
    "\n",
    "purpose_counts.plot(kind='bar', stacked=True)\n",
    "plt.title('Outgoing vs Incoming Calls by Purpose')\n",
    "plt.xlabel('Call Purpose')\n",
    "plt.ylabel('Number of Calls')\n",
    "plt.xticks(rotation=45)\n",
    "plt.legend(title='Call Type')\n",
    "plt.tight_layout()\n",
    "plt.show()"
   ]
  },
  {
   "cell_type": "markdown",
   "id": "9198bbe4-44ef-4e21-bd40-6ace8e9f7694",
   "metadata": {},
   "source": [
    "##### Record your answer below:\n",
    "\n",
    "> Chart style you chose and why: I used another bar chart, I just prefer the visual aid they provide. That and I struggled so hard getting anything else to work, I initially wanted a line chart but that was proving useless. D: "
   ]
  },
  {
   "cell_type": "markdown",
   "id": "ea7ed568",
   "metadata": {},
   "source": [
    "## Task 5: Summarize Your Work\n",
    "\n",
    "With what you know now about the two call centers and the entire company, answer the following questions. Note that while this is subjective, you should include relevant data to back up your opinion.\n"
   ]
  },
  {
   "cell_type": "markdown",
   "id": "d2fc3d13",
   "metadata": {},
   "source": [
    "#### Summary Question 1:  Using KPIs such as average abandonment rate, service level and average speed of answer, in your opinion, which one of the two branches is operating more efficiently? Why?\n",
    "\n",
    "##### Record your answer below:\n",
    "> Your Answer:\n",
    "\n",
    "I personally think the South branch is doing better. They have a lower call abandonment rate, a shorter incoming wait time, and while the % answered within two seconds is lower at the South branch, they have more total calls they are counting against, so the difference doesn't seem as big.  \n",
    "\n",
    "\n"
   ]
  },
  {
   "cell_type": "markdown",
   "id": "489f28d6",
   "metadata": {},
   "source": [
    "#### Summary Question 2: Based on the number of reps in each branch and how quickly the reps are working, in your opinion, which branch would benefit from the extra help?\n",
    "\n",
    "##### Record your answer below:\n",
    "> Your Answer:\n",
    "\n",
    "I think I would give the extra help to the North branch. They have fewer reps already, are a bit slower slower to answer (by .5 of a second) and also have a higher call abandonment percentage.\n"
   ]
  },
  {
   "cell_type": "markdown",
   "id": "0b10a8c3",
   "metadata": {},
   "source": [
    "#### Summary Question 3: Now that you have explored the datasets, is there any data or information that you wish you had in this analysis?\n",
    "\n",
    "##### Record your answer below:\n",
    "> Your Answer: \n",
    "\n",
    "Nothing I wish I had, however I wish the data had been presented in a way that would make it easier to perform multiple stats in one sweep. Having seconds as a decimal or something as opposed to \"1\" when other fields use \"1\" as minutes. "
   ]
  },
  {
   "cell_type": "markdown",
   "id": "ce16f43d",
   "metadata": {},
   "source": [
    "## Bonus Mission\n",
    "Create a visualization that answers this question: For each call purpose, how many calls (incoming and outgoing) take place in each time block?\n",
    "##### Record your answer below:\n",
    "\n",
    "> Chart style you chose and why: "
   ]
  },
  {
   "cell_type": "code",
   "execution_count": 4,
   "id": "71b04f32",
   "metadata": {},
   "outputs": [
    {
     "ename": "NameError",
     "evalue": "name 'df' is not defined",
     "output_type": "error",
     "traceback": [
      "\u001b[0;31m---------------------------------------------------------------------------\u001b[0m",
      "\u001b[0;31mNameError\u001b[0m                                 Traceback (most recent call last)",
      "\u001b[0;32m/tmp/ipykernel_10106/3163764672.py\u001b[0m in \u001b[0;36m<module>\u001b[0;34m\u001b[0m\n\u001b[1;32m      1\u001b[0m \u001b[0;31m# Create your Bonus Mission visualization here!\u001b[0m\u001b[0;34m\u001b[0m\u001b[0;34m\u001b[0m\u001b[0m\n\u001b[0;32m----> 2\u001b[0;31m \u001b[0mcall_times\u001b[0m \u001b[0;34m=\u001b[0m \u001b[0mdf\u001b[0m\u001b[0;34m[\u001b[0m\u001b[0;34m[\u001b[0m\u001b[0;34m\"Time Block\"\u001b[0m\u001b[0;34m,\u001b[0m \u001b[0;34m\"Call Purpose\"\u001b[0m\u001b[0;34m,\u001b[0m \u001b[0;34m\"Incoming or Outgoing\"\u001b[0m\u001b[0;34m,\u001b[0m \u001b[0;34m\"Calls\"\u001b[0m\u001b[0;34m]\u001b[0m\u001b[0;34m]\u001b[0m\u001b[0;34m\u001b[0m\u001b[0;34m\u001b[0m\u001b[0m\n\u001b[0m\u001b[1;32m      3\u001b[0m \u001b[0;34m\u001b[0m\u001b[0m\n\u001b[1;32m      4\u001b[0m \u001b[0;31m# Use groupby to plot based on time blocks:\u001b[0m\u001b[0;34m\u001b[0m\u001b[0;34m\u001b[0m\u001b[0m\n\u001b[1;32m      5\u001b[0m \u001b[0;34m\u001b[0m\u001b[0m\n",
      "\u001b[0;31mNameError\u001b[0m: name 'df' is not defined"
     ]
    }
   ],
   "source": [
    "# Create your Bonus Mission visualization here!\n",
    "call_times = df[[\"Time Block\", \"Call Purpose\", \"Incoming or Outgoing\", \"Calls\"]]\n",
    "\n",
    "# Use groupby to plot based on time blocks:\n",
    "\n",
    "# Use groupby and get_group to select which call purpose to plot:"
   ]
  }
 ],
 "metadata": {
  "kernelspec": {
   "display_name": "Python 3 (ipykernel)",
   "language": "python",
   "name": "python3"
  },
  "language_info": {
   "codemirror_mode": {
    "name": "ipython",
    "version": 3
   },
   "file_extension": ".py",
   "mimetype": "text/x-python",
   "name": "python",
   "nbconvert_exporter": "python",
   "pygments_lexer": "ipython3",
   "version": "3.12.4"
  }
 },
 "nbformat": 4,
 "nbformat_minor": 5
}
